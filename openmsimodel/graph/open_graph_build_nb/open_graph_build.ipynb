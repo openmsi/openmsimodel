{
 "cells": [
  {
   "cell_type": "code",
   "execution_count": 1,
   "metadata": {},
   "outputs": [],
   "source": [
    "from openmsimodel.graph.open_graph import OpenGraph\n",
    "from openmsimodel.graph.helpers import launch_graph_widget\n",
    "from pathlib import Path"
   ]
  },
  {
   "cell_type": "code",
   "execution_count": 2,
   "metadata": {},
   "outputs": [
    {
     "name": "stdout",
     "output_type": "stream",
     "text": [
      "-- Building runs of /srv/hemi01-j01/htmdec_models/data/xrd/gemd_folder\n",
      "Extracting folder...\n",
      "0/31 gemd objects processed...\n",
      "7/31 gemd objects processed...\n",
      "14/31 gemd objects processed...\n",
      "21/31 gemd objects processed...\n",
      "28/31 gemd objects processed...\n",
      "Done.\n",
      "Relabeling nodes ...\n",
      "Saving graphs...\n",
      "Couldn't find GraphViz graph. Can't dump SVG and DOT files.\n",
      "Dumping graphml...\n",
      "Time elapsed: 0.006762981414794922\n",
      "-- Saved graph to /srv/hemi01-j01/openmsimodel/openmsimodel/graph/open_graph_build_nb/output/Laser_shock_run.graphml\n",
      "-- Analysis --\n",
      "cycles in the graph: []\n",
      "disregarded/total number of gemd objects: 0/31\n",
      "number of connected components: 12\n",
      "total nb of isolates in the graph: 0\n"
     ]
    }
   ],
   "source": [
    "output = str(Path().absolute() / \"output\")\n",
    "open_graph = OpenGraph(name=\"Laser_shock\", \n",
    "    science_kit=None, \n",
    "    source=\"/srv/hemi01-j01/htmdec_models/data/xrd/gemd_folder\", \n",
    "    output=output, \n",
    "    layout='visualisation',\n",
    "    which='run')\n",
    "G, relabeled_G, name_mapping = open_graph.build_graph(save=True)"
   ]
  },
  {
   "cell_type": "code",
   "execution_count": 3,
   "metadata": {},
   "outputs": [
    {
     "name": "stdout",
     "output_type": "stream",
     "text": [
      "Launching widget for DiGraph named 'Laser_shock' with 12 nodes and 11 edges\n"
     ]
    },
    {
     "data": {
      "application/vnd.jupyter.widget-view+json": {
       "model_id": "47bf6491fd494bc3acc45340b30475a2",
       "version_major": 2,
       "version_minor": 0
      },
      "text/plain": [
       "GraphWidget(layout=Layout(height='500px', width='100%'))"
      ]
     },
     "metadata": {},
     "output_type": "display_data"
    }
   ],
   "source": [
    "launch_graph_widget(G, engine='yfiles') "
   ]
  },
  {
   "cell_type": "code",
   "execution_count": null,
   "metadata": {},
   "outputs": [],
   "source": []
  }
 ],
 "metadata": {
  "kernelspec": {
   "display_name": "test_openmsimodel",
   "language": "python",
   "name": "python3"
  },
  "language_info": {
   "codemirror_mode": {
    "name": "ipython",
    "version": 3
   },
   "file_extension": ".py",
   "mimetype": "text/x-python",
   "name": "python",
   "nbconvert_exporter": "python",
   "pygments_lexer": "ipython3",
   "version": "3.8.18"
  }
 },
 "nbformat": 4,
 "nbformat_minor": 2
}
