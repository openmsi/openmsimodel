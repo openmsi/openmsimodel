{
 "cells": [
  {
   "cell_type": "code",
   "execution_count": 2,
   "metadata": {},
   "outputs": [
    {
     "name": "stderr",
     "output_type": "stream",
     "text": [
      "/srv/hemi01-j01/anaconda3/envs/default/lib/python3.9/site-packages/dask/array/chunk_types.py:131: UserWarning: A NumPy version >=1.22.4 and <2.3.0 is required for this version of SciPy (detected version 1.21.0)\n",
      "  import scipy.sparse\n"
     ]
    }
   ],
   "source": [
    "%env\n",
    "from openmsimodel.llm.openmsi_llm import OpenMSI_LLM\n",
    "import os\n",
    "from pathlib import Path\n",
    "from openmsimodel.graph.open_graph import OpenGraph\n"
   ]
  },
  {
   "cell_type": "code",
   "execution_count": 3,
   "metadata": {},
   "outputs": [],
   "source": [
    "from dotenv import load_dotenv\n",
    "load_dotenv(dotenv_path='/home/arachid1/vars.env')\n",
    "\n",
    "OPENAI_KEY = os.getenv('OPENAI_KEY')\n",
    "\n",
    "openmsi_llm = OpenMSI_LLM(OPENAI_KEY)\n",
    "target_folder = Path().absolute() / \"output\""
   ]
  },
  {
   "cell_type": "code",
   "execution_count": null,
   "metadata": {},
   "outputs": [
    {
     "ename": "FileNotFoundError",
     "evalue": "[Errno 2] No such file or directory: './open_graph_build_nb/output/birdshot_run.graphml'",
     "output_type": "error",
     "traceback": [
      "\u001b[0;31m---------------------------------------------------------------------------\u001b[0m",
      "\u001b[0;31mFileNotFoundError\u001b[0m                         Traceback (most recent call last)",
      "Cell \u001b[0;32mIn[12], line 1\u001b[0m\n\u001b[0;32m----> 1\u001b[0m graph \u001b[38;5;241m=\u001b[39m \u001b[43mopenmsi_llm\u001b[49m\u001b[38;5;241;43m.\u001b[39;49m\u001b[43mload_graphml\u001b[49m\u001b[43m(\u001b[49m\u001b[38;5;124;43m\"\u001b[39;49m\u001b[38;5;124;43m./open_graph_build_nb/output/birdshot_run.graphml\u001b[39;49m\u001b[38;5;124;43m\"\u001b[39;49m\u001b[43m)\u001b[49m\n",
      "File \u001b[0;32m/srv/hemi01-j01/openmsimodel/openmsimodel/llm/openmsi_llm.py:18\u001b[0m, in \u001b[0;36mOpenMSI_LLM.load_graphml\u001b[0;34m(self, file_path)\u001b[0m\n\u001b[1;32m     17\u001b[0m \u001b[38;5;28;01mdef\u001b[39;00m\u001b[38;5;250m \u001b[39m\u001b[38;5;21mload_graphml\u001b[39m(\u001b[38;5;28mself\u001b[39m, file_path):\n\u001b[0;32m---> 18\u001b[0m     \u001b[38;5;28;01mreturn\u001b[39;00m \u001b[43mnx\u001b[49m\u001b[38;5;241;43m.\u001b[39;49m\u001b[43mread_graphml\u001b[49m\u001b[43m(\u001b[49m\u001b[43mfile_path\u001b[49m\u001b[43m)\u001b[49m\n",
      "File \u001b[0;32m<class 'networkx.utils.decorators.argmap'> compilation 5:3\u001b[0m, in \u001b[0;36margmap_read_graphml_1\u001b[0;34m(path, node_type, edge_key_type, force_multigraph, backend, **backend_kwargs)\u001b[0m\n\u001b[1;32m      1\u001b[0m \u001b[38;5;28;01mimport\u001b[39;00m\u001b[38;5;250m \u001b[39m\u001b[38;5;21;01mbz2\u001b[39;00m\n\u001b[1;32m      2\u001b[0m \u001b[38;5;28;01mimport\u001b[39;00m\u001b[38;5;250m \u001b[39m\u001b[38;5;21;01mcollections\u001b[39;00m\n\u001b[0;32m----> 3\u001b[0m \u001b[38;5;28;01mimport\u001b[39;00m\u001b[38;5;250m \u001b[39m\u001b[38;5;21;01mgzip\u001b[39;00m\n\u001b[1;32m      4\u001b[0m \u001b[38;5;28;01mimport\u001b[39;00m\u001b[38;5;250m \u001b[39m\u001b[38;5;21;01minspect\u001b[39;00m\n\u001b[1;32m      5\u001b[0m \u001b[38;5;28;01mimport\u001b[39;00m\u001b[38;5;250m \u001b[39m\u001b[38;5;21;01mitertools\u001b[39;00m\n",
      "File \u001b[0;32m/srv/hemi01-j01/anaconda3/envs/default/lib/python3.9/site-packages/networkx/utils/decorators.py:193\u001b[0m, in \u001b[0;36mopen_file.<locals>._open_file\u001b[0;34m(path)\u001b[0m\n\u001b[1;32m    189\u001b[0m \u001b[38;5;28;01melse\u001b[39;00m:\n\u001b[1;32m    190\u001b[0m     \u001b[38;5;66;03m# could be None, or a file handle, in which case the algorithm will deal with it\u001b[39;00m\n\u001b[1;32m    191\u001b[0m     \u001b[38;5;28;01mreturn\u001b[39;00m path, \u001b[38;5;28;01mlambda\u001b[39;00m: \u001b[38;5;28;01mNone\u001b[39;00m\n\u001b[0;32m--> 193\u001b[0m fobj \u001b[38;5;241m=\u001b[39m \u001b[43m_dispatch_dict\u001b[49m\u001b[43m[\u001b[49m\u001b[43mext\u001b[49m\u001b[43m]\u001b[49m\u001b[43m(\u001b[49m\u001b[43mpath\u001b[49m\u001b[43m,\u001b[49m\u001b[43m \u001b[49m\u001b[43mmode\u001b[49m\u001b[38;5;241;43m=\u001b[39;49m\u001b[43mmode\u001b[49m\u001b[43m)\u001b[49m\n\u001b[1;32m    194\u001b[0m \u001b[38;5;28;01mreturn\u001b[39;00m fobj, \u001b[38;5;28;01mlambda\u001b[39;00m: fobj\u001b[38;5;241m.\u001b[39mclose()\n",
      "\u001b[0;31mFileNotFoundError\u001b[0m: [Errno 2] No such file or directory: './open_graph_build_nb/output/birdshot_run.graphml'"
     ]
    }
   ],
   "source": [
    "graph = openmsi_llm.load_graphml(\"/srv/hemi01-j01/htmdec_models/src/open_graph_build_nb/output/birdshot_run.graphml\")"
   ]
  },
  {
   "cell_type": "code",
   "execution_count": 5,
   "metadata": {},
   "outputs": [],
   "source": [
    "subgraphs = OpenGraph.get_isolated_subgraphs(graph)\n",
    "selected_subgraphs = sorted(subgraphs, key=lambda sg: sg.number_of_nodes())[-15:]\n",
    "# OpenGraph.save_subgraphs(selected_subgraphs, 'test')"
   ]
  },
  {
   "cell_type": "code",
   "execution_count": 6,
   "metadata": {},
   "outputs": [
    {
     "name": "stdout",
     "output_type": "stream",
     "text": [
      "62841\n"
     ]
    }
   ],
   "source": [
    "sentences = []\n",
    "for subgraph in selected_subgraphs:\n",
    "    sentences.append(\" \".join(openmsi_llm.graph_to_sentences(subgraph)))\n",
    "context = openmsi_llm.build_context(sentences)\n",
    "print(len(context))"
   ]
  },
  {
   "cell_type": "code",
   "execution_count": 8,
   "metadata": {},
   "outputs": [
    {
     "name": "stdout",
     "output_type": "stream",
     "text": [
      "Yes, there can be proportional relationships between properties, conditions, and parameters values. For example, in this experiment, the temperature of 1150 degrees Celsius is used in both the forging and homogenization processes, indicating a proportional relationship between the two. Additionally, the measured values of different elements in the BAA14_VAM-A Arc Melted Sample show varying proportions, such as Co being 5.7696 grams and V being 0.0 grams, indicating a proportional relationship between the two elements in the sample. These proportional relationships can also be seen in the measurements of the ingot before and after forging, as well as in the use of the homogenization process in creating a homogenous sample.\n"
     ]
    }
   ],
   "source": [
    "answer = openmsi_llm.ask_question_with_context(context[:4097], \"are there proportional relationships between properties/conditions/parameters values?\")\n",
    "print(answer)"
   ]
  },
  {
   "cell_type": "code",
   "execution_count": null,
   "metadata": {},
   "outputs": [],
   "source": []
  }
 ],
 "metadata": {
  "kernelspec": {
   "display_name": "default",
   "language": "python",
   "name": "python3"
  },
  "language_info": {
   "codemirror_mode": {
    "name": "ipython",
    "version": 3
   },
   "file_extension": ".py",
   "mimetype": "text/x-python",
   "name": "python",
   "nbconvert_exporter": "python",
   "pygments_lexer": "ipython3",
   "version": "3.9.16"
  }
 },
 "nbformat": 4,
 "nbformat_minor": 2
}
